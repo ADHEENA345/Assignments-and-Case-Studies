{
 "cells": [
  {
   "cell_type": "markdown",
   "id": "c07a69d8",
   "metadata": {},
   "source": [
    "# Case study on Supervised Learning\n",
    "Do the following in the iris dataset.\n",
    "1. Read the dataset to the python environment.\n",
    "2. Do necessary pre-processing steps.\n",
    "3. Find out which classification model gives the best result to predict iris species.(also do random forest algorithm)"
   ]
  },
  {
   "cell_type": "code",
   "execution_count": null,
   "id": "792873f5",
   "metadata": {},
   "outputs": [],
   "source": [
    "#Importing relevant libraries"
   ]
  },
  {
   "cell_type": "code",
   "execution_count": 1,
   "id": "ac655f8f",
   "metadata": {},
   "outputs": [],
   "source": [
    "import pandas as pd \n",
    "import numpy as np\n",
    "import matplotlib.pyplot as plt\n",
    "import seaborn as sns"
   ]
  },
  {
   "cell_type": "code",
   "execution_count": 2,
   "id": "0c3431f4",
   "metadata": {},
   "outputs": [],
   "source": [
    "#Reading the dataset"
   ]
  },
  {
   "cell_type": "code",
   "execution_count": 3,
   "id": "ffc1ffbd",
   "metadata": {},
   "outputs": [
    {
     "data": {
      "text/html": [
       "<div>\n",
       "<style scoped>\n",
       "    .dataframe tbody tr th:only-of-type {\n",
       "        vertical-align: middle;\n",
       "    }\n",
       "\n",
       "    .dataframe tbody tr th {\n",
       "        vertical-align: top;\n",
       "    }\n",
       "\n",
       "    .dataframe thead th {\n",
       "        text-align: right;\n",
       "    }\n",
       "</style>\n",
       "<table border=\"1\" class=\"dataframe\">\n",
       "  <thead>\n",
       "    <tr style=\"text-align: right;\">\n",
       "      <th></th>\n",
       "      <th>SL</th>\n",
       "      <th>SW</th>\n",
       "      <th>PL</th>\n",
       "      <th>PW</th>\n",
       "      <th>Classification</th>\n",
       "    </tr>\n",
       "  </thead>\n",
       "  <tbody>\n",
       "    <tr>\n",
       "      <th>0</th>\n",
       "      <td>5.1</td>\n",
       "      <td>3.5</td>\n",
       "      <td>1.4</td>\n",
       "      <td>0.2</td>\n",
       "      <td>Iris-setosa</td>\n",
       "    </tr>\n",
       "    <tr>\n",
       "      <th>1</th>\n",
       "      <td>4.9</td>\n",
       "      <td>3.0</td>\n",
       "      <td>1.4</td>\n",
       "      <td>0.2</td>\n",
       "      <td>Iris-setosa</td>\n",
       "    </tr>\n",
       "    <tr>\n",
       "      <th>2</th>\n",
       "      <td>NaN</td>\n",
       "      <td>3.2</td>\n",
       "      <td>1.3</td>\n",
       "      <td>0.2</td>\n",
       "      <td>Iris-setosa</td>\n",
       "    </tr>\n",
       "    <tr>\n",
       "      <th>3</th>\n",
       "      <td>4.6</td>\n",
       "      <td>3.1</td>\n",
       "      <td>1.5</td>\n",
       "      <td>0.2</td>\n",
       "      <td>Iris-setosa</td>\n",
       "    </tr>\n",
       "    <tr>\n",
       "      <th>4</th>\n",
       "      <td>5.0</td>\n",
       "      <td>3.6</td>\n",
       "      <td>1.4</td>\n",
       "      <td>0.2</td>\n",
       "      <td>Iris-setosa</td>\n",
       "    </tr>\n",
       "  </tbody>\n",
       "</table>\n",
       "</div>"
      ],
      "text/plain": [
       "    SL   SW   PL   PW Classification\n",
       "0  5.1  3.5  1.4  0.2    Iris-setosa\n",
       "1  4.9  3.0  1.4  0.2    Iris-setosa\n",
       "2  NaN  3.2  1.3  0.2    Iris-setosa\n",
       "3  4.6  3.1  1.5  0.2    Iris-setosa\n",
       "4  5.0  3.6  1.4  0.2    Iris-setosa"
      ]
     },
     "execution_count": 3,
     "metadata": {},
     "output_type": "execute_result"
    }
   ],
   "source": [
    "data= pd.read_excel(r'G:\\my trials\\Casestudy\\iris.xls')\n",
    "data.head()"
   ]
  },
  {
   "cell_type": "code",
   "execution_count": 4,
   "id": "1a8ab9ed",
   "metadata": {},
   "outputs": [],
   "source": [
    "# Performing general analysis"
   ]
  },
  {
   "cell_type": "code",
   "execution_count": 5,
   "id": "d4b95616",
   "metadata": {},
   "outputs": [
    {
     "data": {
      "text/plain": [
       "(150, 5)"
      ]
     },
     "execution_count": 5,
     "metadata": {},
     "output_type": "execute_result"
    }
   ],
   "source": [
    "data.shape"
   ]
  },
  {
   "cell_type": "code",
   "execution_count": 6,
   "id": "804ea51d",
   "metadata": {},
   "outputs": [
    {
     "name": "stdout",
     "output_type": "stream",
     "text": [
      "<class 'pandas.core.frame.DataFrame'>\n",
      "RangeIndex: 150 entries, 0 to 149\n",
      "Data columns (total 5 columns):\n",
      " #   Column          Non-Null Count  Dtype  \n",
      "---  ------          --------------  -----  \n",
      " 0   SL              143 non-null    float64\n",
      " 1   SW              144 non-null    float64\n",
      " 2   PL              144 non-null    float64\n",
      " 3   PW              150 non-null    float64\n",
      " 4   Classification  150 non-null    object \n",
      "dtypes: float64(4), object(1)\n",
      "memory usage: 6.0+ KB\n"
     ]
    }
   ],
   "source": [
    "data.info()"
   ]
  },
  {
   "cell_type": "code",
   "execution_count": 7,
   "id": "d172c871",
   "metadata": {},
   "outputs": [
    {
     "data": {
      "text/plain": [
       "SL                7\n",
       "SW                6\n",
       "PL                6\n",
       "PW                0\n",
       "Classification    0\n",
       "dtype: int64"
      ]
     },
     "execution_count": 7,
     "metadata": {},
     "output_type": "execute_result"
    }
   ],
   "source": [
    "data.isna().sum()"
   ]
  },
  {
   "cell_type": "code",
   "execution_count": 8,
   "id": "72900867",
   "metadata": {},
   "outputs": [
    {
     "data": {
      "text/plain": [
       "SL                float64\n",
       "SW                float64\n",
       "PL                float64\n",
       "PW                float64\n",
       "Classification     object\n",
       "dtype: object"
      ]
     },
     "execution_count": 8,
     "metadata": {},
     "output_type": "execute_result"
    }
   ],
   "source": [
    "data.dtypes"
   ]
  },
  {
   "cell_type": "raw",
   "id": "f2ef712a",
   "metadata": {},
   "source": [
    "** Insights**<br>\n",
    "-- The data set contains 5 columns and 150 rows.<br>\n",
    "-- Data contains float and object types.<br>\n",
    "-- There are some missing values in the columns SW, SL and PL.<br>"
   ]
  },
  {
   "cell_type": "markdown",
   "id": "2c345412",
   "metadata": {},
   "source": [
    "# Preprocessing the data "
   ]
  },
  {
   "cell_type": "markdown",
   "id": "08900a02",
   "metadata": {},
   "source": [
    "##### Filling missing values"
   ]
  },
  {
   "cell_type": "code",
   "execution_count": 10,
   "id": "74764b44",
   "metadata": {},
   "outputs": [
    {
     "data": {
      "image/png": "[encoded data removed]",
      "text/plain": [
       "<Figure size 432x288 with 1 Axes>"
      ]
     },
     "metadata": {
      "needs_background": "light"
     },
     "output_type": "display_data"
    }
   ],
   "source": [
    "# random value approach and median value approch for filling null values\n",
    "random_values_SL = data['SL'].dropna().sample(data['SL'].isnull().sum())\n",
    "random_values_SL.index = data[data['SL'].isnull()].index\n",
    "data['random_SL'] = data['SL'].fillna(random_values_SL)\n",
    "data['median_SL'] = data['SL'].fillna(data['SL'].median())\n",
    "sns.kdeplot(data=data[['SL', 'median_SL','random_SL']])\n",
    "plt.show()"
   ]
  },
  {
   "cell_type": "code",
   "execution_count": 11,
   "id": "93becce4",
   "metadata": {},
   "outputs": [
    {
     "data": {
      "image/png": "[encoded data removed]",
      "text/plain": [
       "<Figure size 432x288 with 1 Axes>"
      ]
     },
     "metadata": {
      "needs_background": "light"
     },
     "output_type": "display_data"
    }
   ],
   "source": [
    "# random value approach and median value approch for filling null values\n",
    "random_values_SW = data['SW'].dropna().sample(data['SW'].isnull().sum())\n",
    "random_values_SW.index = data[data['SW'].isnull()].index\n",
    "data['random_SW'] = data['SW'].fillna(random_values_SW)\n",
    "data['median_SW'] = data['SW'].fillna(data['SW'].median())\n",
    "sns.kdeplot(data=data[['SW', 'median_SW','random_SW']])\n",
    "plt.show()"
   ]
  },
  {
   "cell_type": "code",
   "execution_count": 12,
   "id": "18f62cf1",
   "metadata": {},
   "outputs": [
    {
     "data": {
      "image/png": "[encoded data removed]",
      "text/plain": [
       "<Figure size 432x288 with 1 Axes>"
      ]
     },
     "metadata": {
      "needs_background": "light"
     },
     "output_type": "display_data"
    }
   ],
   "source": [
    "# random value approach and median value approch for filling null values\n",
    "random_values_PL = data['PL'].dropna().sample(data['PL'].isnull().sum())\n",
    "random_values_PL.index = data[data['PL'].isnull()].index\n",
    "data['random_PL'] = data['PL'].fillna(random_values_PL)\n",
    "data['median_PL'] = data['PL'].fillna(data['PL'].median())\n",
    "sns.kdeplot(data=data[['PL', 'median_PL','random_PL']])\n",
    "plt.show()"
   ]
  },
  {
   "cell_type": "raw",
   "id": "1fa0808f",
   "metadata": {},
   "source": [
    "** Insights**<br>\n",
    "-- Random sample method appears to be much more effective than median value.<br>"
   ]
  },
  {
   "cell_type": "code",
   "execution_count": 13,
   "id": "93b7c2ab",
   "metadata": {},
   "outputs": [],
   "source": [
    "# Filling values\n",
    "data['SL'].fillna(random_values_SL, inplace=True)\n",
    "data['SW'].fillna(random_values_SW, inplace=True)\n",
    "data['PL'].fillna(random_values_PL, inplace=True)"
   ]
  },
  {
   "cell_type": "code",
   "execution_count": 14,
   "id": "f49b8f13",
   "metadata": {},
   "outputs": [
    {
     "data": {
      "text/plain": [
       "SL                0\n",
       "SW                0\n",
       "PL                0\n",
       "PW                0\n",
       "Classification    0\n",
       "random_SL         0\n",
       "median_SL         0\n",
       "random_SW         0\n",
       "median_SW         0\n",
       "random_PL         0\n",
       "median_PL         0\n",
       "dtype: int64"
      ]
     },
     "execution_count": 14,
     "metadata": {},
     "output_type": "execute_result"
    }
   ],
   "source": [
    "data.isna().sum()"
   ]
  },
  {
   "cell_type": "markdown",
   "id": "7ec60aa8",
   "metadata": {},
   "source": [
    "##### Finding outliers"
   ]
  },
  {
   "cell_type": "code",
   "execution_count": 15,
   "id": "eab515a8",
   "metadata": {},
   "outputs": [
    {
     "data": {
      "text/plain": [
       "Text(0.5, 1.0, 'Box plot of PW')"
      ]
     },
     "execution_count": 15,
     "metadata": {},
     "output_type": "execute_result"
    },
    {
     "data": {
      "image/png": "[encoded data removed]",
      "text/plain": [
       "<Figure size 864x360 with 4 Axes>"
      ]
     },
     "metadata": {
      "needs_background": "light"
     },
     "output_type": "display_data"
    }
   ],
   "source": [
    "plt.figure(figsize=(12,5))\n",
    "plt.subplot(1,4,1)\n",
    "plt.boxplot(data['SL'])\n",
    "plt.title('Box plot of SL')\n",
    "plt.subplot(1,4,2)\n",
    "plt.boxplot(data['SW'])\n",
    "plt.title('Box plot of SW')\n",
    "plt.subplot(1,4,3)\n",
    "plt.boxplot(data['PL'])\n",
    "plt.title('Box plot of PL')\n",
    "plt.subplot(1,4,4)\n",
    "plt.boxplot(data['PW'])\n",
    "plt.title('Box plot of PW')"
   ]
  },
  {
   "cell_type": "raw",
   "id": "df3f4e4c",
   "metadata": {},
   "source": [
    "** Insights**<br>\n",
    "-- The column 'SW' contains some outliers.<br>\n",
    "-- Columns SL, PL, and PW have no outliers.<br>"
   ]
  },
  {
   "cell_type": "code",
   "execution_count": 16,
   "id": "7de9a56b",
   "metadata": {},
   "outputs": [],
   "source": [
    "# Outlier detection using IQR method in the column 'SW' \n",
    "Q1=np.percentile(data['SW'], 25, interpolation='midpoint')\n",
    "Q2=np.percentile(data['SW'], 50, interpolation='midpoint')\n",
    "Q3=np.percentile(data['SW'], 75, interpolation='midpoint')\n",
    "IQR=Q3-Q1\n",
    "low_lim=Q1-1.5*IQR\n",
    "up_lim=Q3+1.5*IQR\n"
   ]
  },
  {
   "cell_type": "code",
   "execution_count": 17,
   "id": "5355d046",
   "metadata": {},
   "outputs": [],
   "source": [
    "outlier=[]\n",
    "for x in data['SW']:\n",
    "    if(x>up_lim) or (x<low_lim):\n",
    "        outlier.append(x)"
   ]
  },
  {
   "cell_type": "code",
   "execution_count": 18,
   "id": "45ef45d9",
   "metadata": {},
   "outputs": [
    {
     "data": {
      "text/plain": [
       "Int64Index([15, 32, 33], dtype='int64')"
      ]
     },
     "execution_count": 18,
     "metadata": {},
     "output_type": "execute_result"
    }
   ],
   "source": [
    "ind1=data['SW']>up_lim\n",
    "index_remove=data.loc[ind1].index\n",
    "index_remove"
   ]
  },
  {
   "cell_type": "code",
   "execution_count": 19,
   "id": "32354bb7",
   "metadata": {},
   "outputs": [
    {
     "data": {
      "text/plain": [
       "(147, 11)"
      ]
     },
     "execution_count": 19,
     "metadata": {},
     "output_type": "execute_result"
    }
   ],
   "source": [
    "data.drop(index=index_remove, inplace=True)\n",
    "data.shape"
   ]
  },
  {
   "cell_type": "markdown",
   "id": "a7695d17",
   "metadata": {},
   "source": [
    "##### One hot Encoding"
   ]
  },
  {
   "cell_type": "code",
   "execution_count": 20,
   "id": "fcc10239",
   "metadata": {},
   "outputs": [
    {
     "data": {
      "text/html": [
       "<div>\n",
       "<style scoped>\n",
       "    .dataframe tbody tr th:only-of-type {\n",
       "        vertical-align: middle;\n",
       "    }\n",
       "\n",
       "    .dataframe tbody tr th {\n",
       "        vertical-align: top;\n",
       "    }\n",
       "\n",
       "    .dataframe thead th {\n",
       "        text-align: right;\n",
       "    }\n",
       "</style>\n",
       "<table border=\"1\" class=\"dataframe\">\n",
       "  <thead>\n",
       "    <tr style=\"text-align: right;\">\n",
       "      <th></th>\n",
       "      <th>SL</th>\n",
       "      <th>SW</th>\n",
       "      <th>PL</th>\n",
       "      <th>PW</th>\n",
       "      <th>random_SL</th>\n",
       "      <th>median_SL</th>\n",
       "      <th>random_SW</th>\n",
       "      <th>median_SW</th>\n",
       "      <th>random_PL</th>\n",
       "      <th>median_PL</th>\n",
       "      <th>Classification_Iris-setosa</th>\n",
       "      <th>Classification_Iris-versicolor</th>\n",
       "      <th>Classification_Iris-virginica</th>\n",
       "    </tr>\n",
       "  </thead>\n",
       "  <tbody>\n",
       "    <tr>\n",
       "      <th>0</th>\n",
       "      <td>5.1</td>\n",
       "      <td>3.5</td>\n",
       "      <td>1.4</td>\n",
       "      <td>0.2</td>\n",
       "      <td>5.1</td>\n",
       "      <td>5.1</td>\n",
       "      <td>3.5</td>\n",
       "      <td>3.5</td>\n",
       "      <td>1.4</td>\n",
       "      <td>1.4</td>\n",
       "      <td>1</td>\n",
       "      <td>0</td>\n",
       "      <td>0</td>\n",
       "    </tr>\n",
       "    <tr>\n",
       "      <th>1</th>\n",
       "      <td>4.9</td>\n",
       "      <td>3.0</td>\n",
       "      <td>1.4</td>\n",
       "      <td>0.2</td>\n",
       "      <td>4.9</td>\n",
       "      <td>4.9</td>\n",
       "      <td>3.0</td>\n",
       "      <td>3.0</td>\n",
       "      <td>1.4</td>\n",
       "      <td>1.4</td>\n",
       "      <td>1</td>\n",
       "      <td>0</td>\n",
       "      <td>0</td>\n",
       "    </tr>\n",
       "    <tr>\n",
       "      <th>2</th>\n",
       "      <td>6.8</td>\n",
       "      <td>3.2</td>\n",
       "      <td>1.3</td>\n",
       "      <td>0.2</td>\n",
       "      <td>6.8</td>\n",
       "      <td>5.8</td>\n",
       "      <td>3.2</td>\n",
       "      <td>3.2</td>\n",
       "      <td>1.3</td>\n",
       "      <td>1.3</td>\n",
       "      <td>1</td>\n",
       "      <td>0</td>\n",
       "      <td>0</td>\n",
       "    </tr>\n",
       "    <tr>\n",
       "      <th>3</th>\n",
       "      <td>4.6</td>\n",
       "      <td>3.1</td>\n",
       "      <td>1.5</td>\n",
       "      <td>0.2</td>\n",
       "      <td>4.6</td>\n",
       "      <td>4.6</td>\n",
       "      <td>3.1</td>\n",
       "      <td>3.1</td>\n",
       "      <td>1.5</td>\n",
       "      <td>1.5</td>\n",
       "      <td>1</td>\n",
       "      <td>0</td>\n",
       "      <td>0</td>\n",
       "    </tr>\n",
       "    <tr>\n",
       "      <th>4</th>\n",
       "      <td>5.0</td>\n",
       "      <td>3.6</td>\n",
       "      <td>1.4</td>\n",
       "      <td>0.2</td>\n",
       "      <td>5.0</td>\n",
       "      <td>5.0</td>\n",
       "      <td>3.6</td>\n",
       "      <td>3.6</td>\n",
       "      <td>1.4</td>\n",
       "      <td>1.4</td>\n",
       "      <td>1</td>\n",
       "      <td>0</td>\n",
       "      <td>0</td>\n",
       "    </tr>\n",
       "  </tbody>\n",
       "</table>\n",
       "</div>"
      ],
      "text/plain": [
       "    SL   SW   PL   PW  random_SL  median_SL  random_SW  median_SW  random_PL  \\\n",
       "0  5.1  3.5  1.4  0.2        5.1        5.1        3.5        3.5        1.4   \n",
       "1  4.9  3.0  1.4  0.2        4.9        4.9        3.0        3.0        1.4   \n",
       "2  6.8  3.2  1.3  0.2        6.8        5.8        3.2        3.2        1.3   \n",
       "3  4.6  3.1  1.5  0.2        4.6        4.6        3.1        3.1        1.5   \n",
       "4  5.0  3.6  1.4  0.2        5.0        5.0        3.6        3.6        1.4   \n",
       "\n",
       "   median_PL  Classification_Iris-setosa  Classification_Iris-versicolor  \\\n",
       "0        1.4                           1                               0   \n",
       "1        1.4                           1                               0   \n",
       "2        1.3                           1                               0   \n",
       "3        1.5                           1                               0   \n",
       "4        1.4                           1                               0   \n",
       "\n",
       "   Classification_Iris-virginica  \n",
       "0                              0  \n",
       "1                              0  \n",
       "2                              0  \n",
       "3                              0  \n",
       "4                              0  "
      ]
     },
     "execution_count": 20,
     "metadata": {},
     "output_type": "execute_result"
    }
   ],
   "source": [
    "data=pd.get_dummies(data)\n",
    "data.head()"
   ]
  },
  {
   "cell_type": "code",
   "execution_count": 21,
   "id": "98463d06",
   "metadata": {},
   "outputs": [
    {
     "data": {
      "text/plain": [
       "Index(['SL', 'SW', 'PL', 'PW', 'random_SL', 'median_SL', 'random_SW',\n",
       "       'median_SW', 'random_PL', 'median_PL', 'Classification_Iris-setosa',\n",
       "       'Classification_Iris-versicolor', 'Classification_Iris-virginica'],\n",
       "      dtype='object')"
      ]
     },
     "execution_count": 21,
     "metadata": {},
     "output_type": "execute_result"
    }
   ],
   "source": [
    "data.columns"
   ]
  },
  {
   "cell_type": "code",
   "execution_count": 45,
   "id": "1cf1689b",
   "metadata": {},
   "outputs": [],
   "source": [
    "# creating a linear regression model\n",
    "y=data[['Classification_Iris-setosa','Classification_Iris-versicolor', 'Classification_Iris-virginica']]\n",
    "X=data.drop(['Classification_Iris-setosa', 'Classification_Iris-versicolor', 'Classification_Iris-virginica'], axis=1)\n",
    "from sklearn.model_selection import train_test_split\n",
    "X_train, X_test, y_train, y_test = train_test_split(X, y, random_state=42, test_size=0.2)\n",
    "from sklearn import linear_model\n",
    "lr= linear_model.LinearRegression()\n",
    "model= lr.fit(X_train, y_train)\n",
    "predictions= model.predict(X_test)"
   ]
  },
  {
   "cell_type": "code",
   "execution_count": 47,
   "id": "d416613b",
   "metadata": {},
   "outputs": [
    {
     "name": "stdout",
     "output_type": "stream",
     "text": [
      "MSE is: 0.12174885039138011\n",
      "Rsquared value is: 0.4443569286333852\n"
     ]
    }
   ],
   "source": [
    "from sklearn.metrics import mean_squared_error, r2_score,accuracy_score,precision_score, recall_score, f1_score, confusion_matrix\n",
    "print('MSE is:', mean_squared_error(y_test, predictions))\n",
    "print('Rsquared value is:', r2_score(y_test, predictions))\n"
   ]
  },
  {
   "cell_type": "markdown",
   "id": "02ceb525",
   "metadata": {},
   "source": [
    "##### Min max scaling"
   ]
  },
  {
   "cell_type": "code",
   "execution_count": 23,
   "id": "cc8ad0d7",
   "metadata": {},
   "outputs": [],
   "source": [
    "from sklearn import preprocessing"
   ]
  },
  {
   "cell_type": "code",
   "execution_count": 24,
   "id": "22b769b2",
   "metadata": {},
   "outputs": [],
   "source": [
    "min_max= preprocessing.MinMaxScaler(feature_range=(0,1))\n",
    "X=min_max.fit_transform(X)"
   ]
  },
  {
   "cell_type": "code",
   "execution_count": 27,
   "id": "b04be545",
   "metadata": {},
   "outputs": [
    {
     "name": "stdout",
     "output_type": "stream",
     "text": [
      "MSE is: 0.12174885039138006\n",
      "Rsquared value is: 0.44435692863338555\n"
     ]
    }
   ],
   "source": [
    "# creating a linear regression model after min max scaling\n",
    "X_train, X_test, y_train, y_test=train_test_split(X, y, random_state=42, test_size=0.2)\n",
    "lr=linear_model.LinearRegression()\n",
    "model=lr.fit(X_train, y_train)\n",
    "predictions= model.predict(X_test)\n",
    "print('MSE is:', mean_squared_error(y_test, predictions))\n",
    "print('Rsquared value is:', r2_score(y_test, predictions))"
   ]
  },
  {
   "cell_type": "markdown",
   "id": "5a0ae3a0",
   "metadata": {},
   "source": [
    "##### standard scaling"
   ]
  },
  {
   "cell_type": "code",
   "execution_count": 28,
   "id": "8d07590e",
   "metadata": {},
   "outputs": [
    {
     "name": "stdout",
     "output_type": "stream",
     "text": [
      "MSE is: 0.12174885039138007\n",
      "Rsquared value is: 0.44435692863338533\n"
     ]
    }
   ],
   "source": [
    "standardisation= preprocessing.StandardScaler()\n",
    "X=standardisation.fit_transform(X)\n",
    "X_train, X_test, y_train, y_test=train_test_split(X, y, random_state=42, test_size=0.2)\n",
    "lr=linear_model.LinearRegression()\n",
    "model=lr.fit(X_train, y_train)\n",
    "predictions= model.predict(X_test)\n",
    "print('MSE is:',mean_squared_error(y_test, predictions))\n",
    "print('Rsquared value is:', r2_score(y_test, predictions))\n"
   ]
  },
  {
   "cell_type": "markdown",
   "id": "45b55ee4",
   "metadata": {},
   "source": [
    "##### Normalization"
   ]
  },
  {
   "cell_type": "code",
   "execution_count": 29,
   "id": "8d48a7e7",
   "metadata": {},
   "outputs": [],
   "source": [
    "X=preprocessing.normalize(X)\n",
    "X=pd.DataFrame(X)"
   ]
  },
  {
   "cell_type": "code",
   "execution_count": 30,
   "id": "5795969c",
   "metadata": {},
   "outputs": [
    {
     "name": "stdout",
     "output_type": "stream",
     "text": [
      "MSE is: 0.12126739357141403\n",
      "Rsquared value is: 0.44507645429417647\n"
     ]
    }
   ],
   "source": [
    "X_train, X_test, y_train, y_test=train_test_split(X, y, random_state=42, test_size=0.2)\n",
    "lr=linear_model.LinearRegression()\n",
    "model=lr.fit(X_train, y_train)\n",
    "predictions= model.predict(X_test)\n",
    "print('MSE is:',mean_squared_error(y_test, predictions))\n",
    "print('Rsquared value is:', r2_score(y_test, predictions))"
   ]
  },
  {
   "cell_type": "raw",
   "id": "2248a19d",
   "metadata": {},
   "source": [
    "**Insights**:<br>\n",
    "-- Mean squared error and R2 score are almost same in all preprocessing steps.\n",
    "--There is no impact on Preprocessing(Encoding,Min-Max Scaling, Standard Scaling,Normalization) for the given data."
   ]
  },
  {
   "cell_type": "markdown",
   "id": "a684e010",
   "metadata": {},
   "source": [
    "# Supervised Learning Models"
   ]
  },
  {
   "cell_type": "markdown",
   "id": "2d38b57d",
   "metadata": {},
   "source": [
    "##### KNN"
   ]
  },
  {
   "cell_type": "code",
   "execution_count": 31,
   "id": "84e35e01",
   "metadata": {},
   "outputs": [],
   "source": [
    "from sklearn.neighbors import KNeighborsClassifier\n",
    "acc_values= []\n",
    "neighbors= np.arange(3,15)\n",
    "for k in neighbors:\n",
    "    classifier = KNeighborsClassifier(n_neighbors=k, metric='minkowski')\n",
    "    classifier.fit(X_train, y_train)\n",
    "    y_pred = classifier.predict(X_test)\n",
    "    acc = accuracy_score(y_test, y_pred)\n",
    "    acc_values.append(acc)"
   ]
  },
  {
   "cell_type": "code",
   "execution_count": 32,
   "id": "eb233fd6",
   "metadata": {},
   "outputs": [
    {
     "data": {
      "text/plain": [
       "Text(0, 0.5, 'accuracy')"
      ]
     },
     "execution_count": 32,
     "metadata": {},
     "output_type": "execute_result"
    },
    {
     "data": {
      "image/png": "[encoded data removed]",
      "text/plain": [
       "<Figure size 432x288 with 1 Axes>"
      ]
     },
     "metadata": {
      "needs_background": "light"
     },
     "output_type": "display_data"
    }
   ],
   "source": [
    "plt.plot(neighbors, acc_values,'o-')\n",
    "plt.xlabel('k value')\n",
    "plt.ylabel('accuracy')"
   ]
  },
  {
   "cell_type": "raw",
   "id": "4e046a9b",
   "metadata": {},
   "source": [
    "**Insights:**<br>\n",
    "-- The highest accuracy of the model for a k value 0f 3 and 5    "
   ]
  },
  {
   "cell_type": "code",
   "execution_count": 33,
   "id": "5e4cc8da",
   "metadata": {},
   "outputs": [],
   "source": [
    "from sklearn.neighbors import KNeighborsClassifier\n",
    "acc_values= []\n",
    "neighbors= np.arange(3,15)\n",
    "for k in neighbors:\n",
    "    classifier = KNeighborsClassifier(n_neighbors=3, metric='minkowski')\n",
    "    classifier.fit(X_train, y_train)\n",
    "    y_pred = classifier.predict(X_test)\n",
    "    acc = accuracy_score(y_test, y_pred)\n",
    "    acc_values.append(acc)"
   ]
  },
  {
   "cell_type": "code",
   "execution_count": 34,
   "id": "19155cff",
   "metadata": {},
   "outputs": [
    {
     "name": "stdout",
     "output_type": "stream",
     "text": [
      "Accuracy is: 0.9\n",
      "Precision is: 0.9\n",
      "Recall is: 0.9\n",
      "f1 score is: 0.9\n"
     ]
    }
   ],
   "source": [
    "print(\"Accuracy is:\", accuracy_score(y_test, y_pred))\n",
    "print(\"Precision is:\", precision_score(y_test, y_pred,average='micro'))\n",
    "print(\"Recall is:\", recall_score(y_test, y_pred,average='micro'))\n",
    "print(\"f1 score is:\", f1_score(y_test, y_pred,average='micro'))"
   ]
  },
  {
   "cell_type": "markdown",
   "id": "1af40b7f",
   "metadata": {},
   "source": [
    "##### Decision Tree Classifier"
   ]
  },
  {
   "cell_type": "code",
   "execution_count": 35,
   "id": "05841dce",
   "metadata": {},
   "outputs": [],
   "source": [
    "from sklearn.tree import DecisionTreeClassifier\n",
    "dt_model= DecisionTreeClassifier()\n",
    "dt_model.fit(X_train,y_train)\n",
    "y_pred= dt_model.predict(X_test)"
   ]
  },
  {
   "cell_type": "code",
   "execution_count": 36,
   "id": "843a621c",
   "metadata": {},
   "outputs": [
    {
     "name": "stdout",
     "output_type": "stream",
     "text": [
      "Accuracy is: 0.8333333333333334\n",
      "Precision is: 0.8333333333333334\n",
      "Recall is: 0.8333333333333334\n",
      "f1 score is: 0.8333333333333334\n"
     ]
    }
   ],
   "source": [
    "print(\"Accuracy is:\", accuracy_score(y_test, y_pred))\n",
    "print(\"Precision is:\", precision_score(y_test, y_pred,average='micro'))\n",
    "print(\"Recall is:\", recall_score(y_test, y_pred,average='micro'))\n",
    "print(\"f1 score is:\", f1_score(y_test, y_pred,average='micro'))"
   ]
  },
  {
   "cell_type": "markdown",
   "id": "8ab08679",
   "metadata": {},
   "source": [
    "#### Random forest classifier"
   ]
  },
  {
   "cell_type": "code",
   "execution_count": 37,
   "id": "98975829",
   "metadata": {},
   "outputs": [],
   "source": [
    "from sklearn.ensemble import RandomForestClassifier\n",
    "rf=RandomForestClassifier()\n",
    "rf.fit(X_train,y_train)\n",
    "y_pred=rf.predict(X_test)"
   ]
  },
  {
   "cell_type": "code",
   "execution_count": 38,
   "id": "ded3d967",
   "metadata": {},
   "outputs": [
    {
     "name": "stdout",
     "output_type": "stream",
     "text": [
      "Accuracy is: 0.9\n",
      "Precision is: 0.9\n",
      "Recall is: 0.9\n",
      "f1 score is: 0.9\n"
     ]
    }
   ],
   "source": [
    "print(\"Accuracy is:\", accuracy_score(y_test, y_pred))\n",
    "print(\"Precision is:\", precision_score(y_test, y_pred,average='micro'))\n",
    "print(\"Recall is:\", recall_score(y_test, y_pred,average='micro'))\n",
    "print(\"f1 score is:\", f1_score(y_test, y_pred,average='micro'))"
   ]
  },
  {
   "cell_type": "raw",
   "id": "2c3cd53e",
   "metadata": {},
   "source": [
    "**Insights:**<br>\n",
    "-- Different learning methods have different metrics paramaters.\n",
    "-- Highest accuracy is for Random Forest Classifier and KNN.\n",
    "\n",
    "    "
   ]
  }
 ],
 "metadata": {
  "kernelspec": {
   "display_name": "Python 3",
   "language": "python",
   "name": "python3"
  },
  "language_info": {
   "codemirror_mode": {
    "name": "ipython",
    "version": 3
   },
   "file_extension": ".py",
   "mimetype": "text/x-python",
   "name": "python",
   "nbconvert_exporter": "python",
   "pygments_lexer": "ipython3",
   "version": "3.8.8"
  }
 },
 "nbformat": 4,
 "nbformat_minor": 5
}
